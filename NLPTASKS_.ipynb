{
  "nbformat": 4,
  "nbformat_minor": 0,
  "metadata": {
    "kernelspec": {
      "display_name": "Python 3",
      "language": "python",
      "name": "python3"
    },
    "language_info": {
      "codemirror_mode": {
        "name": "ipython",
        "version": 3
      },
      "file_extension": ".py",
      "mimetype": "text/x-python",
      "name": "python",
      "nbconvert_exporter": "python",
      "pygments_lexer": "ipython3",
      "version": "3.8.5"
    },
    "colab": {
      "name": "FA18-BSCS-0070 NLPTASKS .ipynb",
      "provenance": [],
      "collapsed_sections": []
    }
  },
  "cells": [
    {
      "cell_type": "markdown",
      "metadata": {
        "id": "pt_pfTBANbqH"
      },
      "source": [
        "\n",
        "\n",
        "```\n",
        "[# This is formatted as code](https:// [link text](https://))\n",
        "```\n",
        "\n",
        "# Question#1"
      ]
    },
    {
      "cell_type": "code",
      "metadata": {
        "id": "DmQTvTU0NbqU"
      },
      "source": [
        " import re"
      ],
      "execution_count": 2,
      "outputs": []
    },
    {
      "cell_type": "code",
      "metadata": {
        "colab": {
          "base_uri": "https://localhost:8080/"
        },
        "id": "J3_9Ip1KNbqW",
        "outputId": "dd8ae871-2b2f-410b-cfcb-0cdad6407658"
      },
      "source": [
        "# Any character except for a new line\n",
        "string = \"I am fizza \\n I am 21 years old \\n i am extrovert\"\n",
        "space = re.findall('\\w' , string)\n",
        "print(\"String is \\n\",string)\n",
        "for i in space:\n",
        "    print(\"Matches : \",i)\n"
      ],
      "execution_count": 3,
      "outputs": [
        {
          "output_type": "stream",
          "text": [
            "String is \n",
            " I am fizza \n",
            " I am 21 years old \n",
            " i am extrovert\n",
            "Matches :  I\n",
            "Matches :  a\n",
            "Matches :  m\n",
            "Matches :  f\n",
            "Matches :  i\n",
            "Matches :  z\n",
            "Matches :  z\n",
            "Matches :  a\n",
            "Matches :  I\n",
            "Matches :  a\n",
            "Matches :  m\n",
            "Matches :  2\n",
            "Matches :  1\n",
            "Matches :  y\n",
            "Matches :  e\n",
            "Matches :  a\n",
            "Matches :  r\n",
            "Matches :  s\n",
            "Matches :  o\n",
            "Matches :  l\n",
            "Matches :  d\n",
            "Matches :  i\n",
            "Matches :  a\n",
            "Matches :  m\n",
            "Matches :  e\n",
            "Matches :  x\n",
            "Matches :  t\n",
            "Matches :  r\n",
            "Matches :  o\n",
            "Matches :  v\n",
            "Matches :  e\n",
            "Matches :  r\n",
            "Matches :  t\n"
          ],
          "name": "stdout"
        }
      ]
    },
    {
      "cell_type": "code",
      "metadata": {
        "colab": {
          "base_uri": "https://localhost:8080/"
        },
        "id": "rhuhnapENbqc",
        "outputId": "8867d88b-8992-4019-d321-6df758931519"
      },
      "source": [
        "\n",
        "import re\n",
        "Digits = \"Hello I am Fizza Sarwar \"\n",
        "periods = re.findall(\"(.)\" ,Digits)\n",
        "for i in periods:\n",
        "    print(\"Matches = \",i)"
      ],
      "execution_count": 4,
      "outputs": [
        {
          "output_type": "stream",
          "text": [
            "Matches =  H\n",
            "Matches =  e\n",
            "Matches =  l\n",
            "Matches =  l\n",
            "Matches =  o\n",
            "Matches =   \n",
            "Matches =  I\n",
            "Matches =   \n",
            "Matches =  a\n",
            "Matches =  m\n",
            "Matches =   \n",
            "Matches =  F\n",
            "Matches =  i\n",
            "Matches =  z\n",
            "Matches =  z\n",
            "Matches =  a\n",
            "Matches =   \n",
            "Matches =  S\n",
            "Matches =  a\n",
            "Matches =  r\n",
            "Matches =  w\n",
            "Matches =  a\n",
            "Matches =  r\n",
            "Matches =   \n"
          ],
          "name": "stdout"
        }
      ]
    },
    {
      "cell_type": "code",
      "metadata": {
        "colab": {
          "base_uri": "https://localhost:8080/"
        },
        "id": "rs3S8_34Nbqe",
        "outputId": "2947d2be-20fa-4cf2-8623-734da8a6e707"
      },
      "source": [
        "import re\n",
        "Digits = \"9876543219876543210\"\n",
        "periods = re.findall(\"(\\d)\" ,Digits)\n",
        "for i in periods:\n",
        "    print(\"Matches = \",i)\n"
      ],
      "execution_count": 5,
      "outputs": [
        {
          "output_type": "stream",
          "text": [
            "Matches =  9\n",
            "Matches =  8\n",
            "Matches =  7\n",
            "Matches =  6\n",
            "Matches =  5\n",
            "Matches =  4\n",
            "Matches =  3\n",
            "Matches =  2\n",
            "Matches =  1\n",
            "Matches =  9\n",
            "Matches =  8\n",
            "Matches =  7\n",
            "Matches =  6\n",
            "Matches =  5\n",
            "Matches =  4\n",
            "Matches =  3\n",
            "Matches =  2\n",
            "Matches =  1\n",
            "Matches =  0\n"
          ],
          "name": "stdout"
        }
      ]
    },
    {
      "cell_type": "code",
      "metadata": {
        "colab": {
          "base_uri": "https://localhost:8080/"
        },
        "id": "v7zNEjmwNbqf",
        "outputId": "f17e171b-5093-48c7-eb6d-eab80ae50bb6"
      },
      "source": [
        "import re\n",
        "Non_digits = \"abcdefghijklmnopqrstuvwxyz987654321\"\n",
        "M= re.findall(\"(\\D)\" ,Non_digits)\n",
        "for i in M:\n",
        "    print(\"Matches = \",i)\n"
      ],
      "execution_count": 6,
      "outputs": [
        {
          "output_type": "stream",
          "text": [
            "Matches =  a\n",
            "Matches =  b\n",
            "Matches =  c\n",
            "Matches =  d\n",
            "Matches =  e\n",
            "Matches =  f\n",
            "Matches =  g\n",
            "Matches =  h\n",
            "Matches =  i\n",
            "Matches =  j\n",
            "Matches =  k\n",
            "Matches =  l\n",
            "Matches =  m\n",
            "Matches =  n\n",
            "Matches =  o\n",
            "Matches =  p\n",
            "Matches =  q\n",
            "Matches =  r\n",
            "Matches =  s\n",
            "Matches =  t\n",
            "Matches =  u\n",
            "Matches =  v\n",
            "Matches =  w\n",
            "Matches =  x\n",
            "Matches =  y\n",
            "Matches =  z\n"
          ],
          "name": "stdout"
        }
      ]
    },
    {
      "cell_type": "code",
      "metadata": {
        "colab": {
          "base_uri": "https://localhost:8080/"
        },
        "id": "50oq2B4DNbqh",
        "outputId": "05357c6f-1b2c-4046-f07c-f5b3b85d80ca"
      },
      "source": [
        "string = \"I am fizza \\n I am 21 years old \\n i am extrovert\"\n",
        "space = re.findall('(\\w)' , string)\n",
        "print(\"Given String is \\n\",string)\n",
        "for i in space:\n",
        "    print(\"Matches : \",i)"
      ],
      "execution_count": 7,
      "outputs": [
        {
          "output_type": "stream",
          "text": [
            "Given String is \n",
            " I am fizza \n",
            " I am 21 years old \n",
            " i am extrovert\n",
            "Matches :  I\n",
            "Matches :  a\n",
            "Matches :  m\n",
            "Matches :  f\n",
            "Matches :  i\n",
            "Matches :  z\n",
            "Matches :  z\n",
            "Matches :  a\n",
            "Matches :  I\n",
            "Matches :  a\n",
            "Matches :  m\n",
            "Matches :  2\n",
            "Matches :  1\n",
            "Matches :  y\n",
            "Matches :  e\n",
            "Matches :  a\n",
            "Matches :  r\n",
            "Matches :  s\n",
            "Matches :  o\n",
            "Matches :  l\n",
            "Matches :  d\n",
            "Matches :  i\n",
            "Matches :  a\n",
            "Matches :  m\n",
            "Matches :  e\n",
            "Matches :  x\n",
            "Matches :  t\n",
            "Matches :  r\n",
            "Matches :  o\n",
            "Matches :  v\n",
            "Matches :  e\n",
            "Matches :  r\n",
            "Matches :  t\n"
          ],
          "name": "stdout"
        }
      ]
    },
    {
      "cell_type": "code",
      "metadata": {
        "colab": {
          "base_uri": "https://localhost:8080/"
        },
        "id": "O-T9gdbENbqi",
        "outputId": "e03fefe1-19f8-4978-da5c-d90d431338b2"
      },
      "source": [
        "import re\n",
        "String = 'v1213$@!$dssgdgsdv@lddssd35646$@$l1234rsdgfdsgsd-53546@.$%^&='\n",
        "Mat = re.findall('[@!_-' ']|[,.]|[#$%+=]' , String)\n",
        "counter=0\n",
        "print(String)\n",
        "for i in Mat:\n",
        "    print(\"Matches = \",i)\n",
        "    counter+=1\n",
        "print(\"Total Matches are =\", counter)    "
      ],
      "execution_count": 9,
      "outputs": [
        {
          "output_type": "stream",
          "text": [
            "v1213$@!$dssgdgsdv@lddssd35646$@$l1234rsdgfdsgsd-53546@.$%^&=\n",
            "Matches =  $\n",
            "Matches =  @\n",
            "Matches =  !\n",
            "Matches =  $\n",
            "Matches =  @\n",
            "Matches =  $\n",
            "Matches =  @\n",
            "Matches =  $\n",
            "Matches =  -\n",
            "Matches =  @\n",
            "Matches =  .\n",
            "Matches =  $\n",
            "Matches =  %\n",
            "Matches =  =\n",
            "Total Matches are = 14\n"
          ],
          "name": "stdout"
        }
      ]
    },
    {
      "cell_type": "code",
      "metadata": {
        "colab": {
          "base_uri": "https://localhost:8080/"
        },
        "id": "Oe_j7QQCNbqj",
        "outputId": "dd36afe6-5c83-4398-d619-fb71a054babe"
      },
      "source": [
        "string = \"I am fizza \\n I am 21 years old \\n i am extrovert\"\n",
        "space = re.findall('(\\w)' , string)\n",
        "print(\"String is : \\n\",string)\n",
        "counter=0\n",
        "for i in space:\n",
        "    print(\"Matches : \",i)\n",
        "    counter+=1\n",
        "print('Total Matches are =',counter)    \n"
      ],
      "execution_count": 11,
      "outputs": [
        {
          "output_type": "stream",
          "text": [
            "String is : \n",
            " I am fizza \n",
            " I am 21 years old \n",
            " i am extrovert\n",
            "Matches :  I\n",
            "Matches :  a\n",
            "Matches :  m\n",
            "Matches :  f\n",
            "Matches :  i\n",
            "Matches :  z\n",
            "Matches :  z\n",
            "Matches :  a\n",
            "Matches :  I\n",
            "Matches :  a\n",
            "Matches :  m\n",
            "Matches :  2\n",
            "Matches :  1\n",
            "Matches :  y\n",
            "Matches :  e\n",
            "Matches :  a\n",
            "Matches :  r\n",
            "Matches :  s\n",
            "Matches :  o\n",
            "Matches :  l\n",
            "Matches :  d\n",
            "Matches :  i\n",
            "Matches :  a\n",
            "Matches :  m\n",
            "Matches :  e\n",
            "Matches :  x\n",
            "Matches :  t\n",
            "Matches :  r\n",
            "Matches :  o\n",
            "Matches :  v\n",
            "Matches :  e\n",
            "Matches :  r\n",
            "Matches :  t\n",
            "Total Matches are = 33\n"
          ],
          "name": "stdout"
        }
      ]
    },
    {
      "cell_type": "code",
      "metadata": {
        "colab": {
          "base_uri": "https://localhost:8080/"
        },
        "id": "iRh6Y7sLNbqm",
        "outputId": "d617031a-3ff4-4771-82ad-3dedf4d54de9"
      },
      "source": [
        "string = \"ID is FA18-BSCS-0070 Another id is FA18-BSCS-0068\"\n",
        "import re\n",
        "Mat = re.findall('[A-Z]|[a-z][-_@]',string)\n",
        "for i in string:\n",
        "    counter=1\n",
        "    for j in string:\n",
        "        if i==j:\n",
        "            print(i,\":\",counter,\" times are present in the string\") \n",
        "            counter+=1\n",
        " "
      ],
      "execution_count": 12,
      "outputs": [
        {
          "output_type": "stream",
          "text": [
            "I : 1  times are present in the string\n",
            "D : 1  times are present in the string\n",
            "  : 1  times are present in the string\n",
            "  : 2  times are present in the string\n",
            "  : 3  times are present in the string\n",
            "  : 4  times are present in the string\n",
            "  : 5  times are present in the string\n",
            "  : 6  times are present in the string\n",
            "i : 1  times are present in the string\n",
            "i : 2  times are present in the string\n",
            "i : 3  times are present in the string\n",
            "s : 1  times are present in the string\n",
            "s : 2  times are present in the string\n",
            "  : 1  times are present in the string\n",
            "  : 2  times are present in the string\n",
            "  : 3  times are present in the string\n",
            "  : 4  times are present in the string\n",
            "  : 5  times are present in the string\n",
            "  : 6  times are present in the string\n",
            "F : 1  times are present in the string\n",
            "F : 2  times are present in the string\n",
            "A : 1  times are present in the string\n",
            "A : 2  times are present in the string\n",
            "A : 3  times are present in the string\n",
            "1 : 1  times are present in the string\n",
            "1 : 2  times are present in the string\n",
            "8 : 1  times are present in the string\n",
            "8 : 2  times are present in the string\n",
            "8 : 3  times are present in the string\n",
            "- : 1  times are present in the string\n",
            "- : 2  times are present in the string\n",
            "- : 3  times are present in the string\n",
            "- : 4  times are present in the string\n",
            "B : 1  times are present in the string\n",
            "B : 2  times are present in the string\n",
            "S : 1  times are present in the string\n",
            "S : 2  times are present in the string\n",
            "S : 3  times are present in the string\n",
            "S : 4  times are present in the string\n",
            "C : 1  times are present in the string\n",
            "C : 2  times are present in the string\n",
            "S : 1  times are present in the string\n",
            "S : 2  times are present in the string\n",
            "S : 3  times are present in the string\n",
            "S : 4  times are present in the string\n",
            "- : 1  times are present in the string\n",
            "- : 2  times are present in the string\n",
            "- : 3  times are present in the string\n",
            "- : 4  times are present in the string\n",
            "0 : 1  times are present in the string\n",
            "0 : 2  times are present in the string\n",
            "0 : 3  times are present in the string\n",
            "0 : 4  times are present in the string\n",
            "0 : 5  times are present in the string\n",
            "0 : 1  times are present in the string\n",
            "0 : 2  times are present in the string\n",
            "0 : 3  times are present in the string\n",
            "0 : 4  times are present in the string\n",
            "0 : 5  times are present in the string\n",
            "7 : 1  times are present in the string\n",
            "0 : 1  times are present in the string\n",
            "0 : 2  times are present in the string\n",
            "0 : 3  times are present in the string\n",
            "0 : 4  times are present in the string\n",
            "0 : 5  times are present in the string\n",
            "  : 1  times are present in the string\n",
            "  : 2  times are present in the string\n",
            "  : 3  times are present in the string\n",
            "  : 4  times are present in the string\n",
            "  : 5  times are present in the string\n",
            "  : 6  times are present in the string\n",
            "A : 1  times are present in the string\n",
            "A : 2  times are present in the string\n",
            "A : 3  times are present in the string\n",
            "n : 1  times are present in the string\n",
            "o : 1  times are present in the string\n",
            "t : 1  times are present in the string\n",
            "h : 1  times are present in the string\n",
            "e : 1  times are present in the string\n",
            "r : 1  times are present in the string\n",
            "  : 1  times are present in the string\n",
            "  : 2  times are present in the string\n",
            "  : 3  times are present in the string\n",
            "  : 4  times are present in the string\n",
            "  : 5  times are present in the string\n",
            "  : 6  times are present in the string\n",
            "i : 1  times are present in the string\n",
            "i : 2  times are present in the string\n",
            "i : 3  times are present in the string\n",
            "d : 1  times are present in the string\n",
            "  : 1  times are present in the string\n",
            "  : 2  times are present in the string\n",
            "  : 3  times are present in the string\n",
            "  : 4  times are present in the string\n",
            "  : 5  times are present in the string\n",
            "  : 6  times are present in the string\n",
            "i : 1  times are present in the string\n",
            "i : 2  times are present in the string\n",
            "i : 3  times are present in the string\n",
            "s : 1  times are present in the string\n",
            "s : 2  times are present in the string\n",
            "  : 1  times are present in the string\n",
            "  : 2  times are present in the string\n",
            "  : 3  times are present in the string\n",
            "  : 4  times are present in the string\n",
            "  : 5  times are present in the string\n",
            "  : 6  times are present in the string\n",
            "F : 1  times are present in the string\n",
            "F : 2  times are present in the string\n",
            "A : 1  times are present in the string\n",
            "A : 2  times are present in the string\n",
            "A : 3  times are present in the string\n",
            "1 : 1  times are present in the string\n",
            "1 : 2  times are present in the string\n",
            "8 : 1  times are present in the string\n",
            "8 : 2  times are present in the string\n",
            "8 : 3  times are present in the string\n",
            "- : 1  times are present in the string\n",
            "- : 2  times are present in the string\n",
            "- : 3  times are present in the string\n",
            "- : 4  times are present in the string\n",
            "B : 1  times are present in the string\n",
            "B : 2  times are present in the string\n",
            "S : 1  times are present in the string\n",
            "S : 2  times are present in the string\n",
            "S : 3  times are present in the string\n",
            "S : 4  times are present in the string\n",
            "C : 1  times are present in the string\n",
            "C : 2  times are present in the string\n",
            "S : 1  times are present in the string\n",
            "S : 2  times are present in the string\n",
            "S : 3  times are present in the string\n",
            "S : 4  times are present in the string\n",
            "- : 1  times are present in the string\n",
            "- : 2  times are present in the string\n",
            "- : 3  times are present in the string\n",
            "- : 4  times are present in the string\n",
            "0 : 1  times are present in the string\n",
            "0 : 2  times are present in the string\n",
            "0 : 3  times are present in the string\n",
            "0 : 4  times are present in the string\n",
            "0 : 5  times are present in the string\n",
            "0 : 1  times are present in the string\n",
            "0 : 2  times are present in the string\n",
            "0 : 3  times are present in the string\n",
            "0 : 4  times are present in the string\n",
            "0 : 5  times are present in the string\n",
            "6 : 1  times are present in the string\n",
            "8 : 1  times are present in the string\n",
            "8 : 2  times are present in the string\n",
            "8 : 3  times are present in the string\n"
          ],
          "name": "stdout"
        }
      ]
    },
    {
      "cell_type": "code",
      "metadata": {
        "colab": {
          "base_uri": "https://localhost:8080/"
        },
        "id": "-dGHNeFSNbqo",
        "outputId": "23c7af78-3cb7-4ab6-f4ca-623917daa9dd"
      },
      "source": [
        "string = \"reee teee aaaa geeeaaaaaa bssseeeeeea teeeeaeaeaea tee\"\n",
        "import re\n",
        "counter=0\n",
        "Mat = re.findall('[(a-z)]+[(a-z)]',string)\n",
        "for i in Mat:\n",
        "    print('Matches :',i)\n",
        "    counter+=1\n",
        "print('\\n')    \n",
        "print(\"Total Matches are : \" , counter)   "
      ],
      "execution_count": 15,
      "outputs": [
        {
          "output_type": "stream",
          "text": [
            "Matches : reee\n",
            "Matches : teee\n",
            "Matches : aaaa\n",
            "Matches : geeeaaaaaa\n",
            "Matches : bssseeeeeea\n",
            "Matches : teeeeaeaeaea\n",
            "Matches : tee\n",
            "\n",
            "\n",
            "Total Matches are :  7\n"
          ],
          "name": "stdout"
        }
      ]
    },
    {
      "cell_type": "code",
      "metadata": {
        "colab": {
          "base_uri": "https://localhost:8080/"
        },
        "id": "cTe3tcZUNbqp",
        "outputId": "50e46c1d-62e8-4491-bd38-586bd8bf98e8"
      },
      "source": [
        "string = \" ff ii ffii fif f zzz fizz fzz\"\n",
        "import re\n",
        "counter=0\n",
        "Mat = re.findall('[(a-z)]*[(a-z)]',string)\n",
        "for i in Mat:\n",
        "    print('Matches :',i)\n",
        "    counter+=1\n",
        "print('\\n')    \n",
        "print(\"Total Matches : \" , counter)   \n"
      ],
      "execution_count": 18,
      "outputs": [
        {
          "output_type": "stream",
          "text": [
            "Matches : ff\n",
            "Matches : ii\n",
            "Matches : ffii\n",
            "Matches : fif\n",
            "Matches : f\n",
            "Matches : zzz\n",
            "Matches : fizz\n",
            "Matches : fzz\n",
            "\n",
            "\n",
            "Total Matches :  8\n"
          ],
          "name": "stdout"
        }
      ]
    },
    {
      "cell_type": "code",
      "metadata": {
        "colab": {
          "base_uri": "https://localhost:8080/"
        },
        "id": "vc0i5RlyNbqq",
        "outputId": "99f83ffb-1d13-49ca-c5a2-593b67d46a15"
      },
      "source": [
        "string = \" f i z a \"\n",
        "import re\n",
        "counter=0\n",
        "Mat = re.findall('[a-z]{0,1}',string)\n",
        "for i in Mat:\n",
        "    print('Matches :',i)\n",
        "    counter+=1\n",
        "print('\\n')    \n",
        "print(\"Total Matches are : \" , counter)   \n"
      ],
      "execution_count": 19,
      "outputs": [
        {
          "output_type": "stream",
          "text": [
            "Matches : \n",
            "Matches : f\n",
            "Matches : \n",
            "Matches : i\n",
            "Matches : \n",
            "Matches : z\n",
            "Matches : \n",
            "Matches : a\n",
            "Matches : \n",
            "Matches : \n",
            "\n",
            "\n",
            "Total Matches are :  10\n"
          ],
          "name": "stdout"
        }
      ]
    },
    {
      "cell_type": "code",
      "metadata": {
        "colab": {
          "base_uri": "https://localhost:8080/"
        },
        "id": "-pz0tysqNbqs",
        "outputId": "27800d45-4273-41d1-a877-417e6c2fdea3"
      },
      "source": [
        "\n",
        "string = \"Fizza\"\n",
        "import re\n",
        "Mat = re.findall('(\\b)',string)\n",
        "print(Mat)\n",
        "    \n",
        " \n",
        "     \n",
        " \n"
      ],
      "execution_count": 20,
      "outputs": [
        {
          "output_type": "stream",
          "text": [
            "[]\n"
          ],
          "name": "stdout"
        }
      ]
    },
    {
      "cell_type": "code",
      "metadata": {
        "colab": {
          "base_uri": "https://localhost:8080/"
        },
        "id": "szGTt2amNbqu",
        "outputId": "27f3d168-6370-4000-aa7a-1ba53d735f12"
      },
      "source": [
        "array = []\n",
        "email ={\"awais .ahmed@jinnah.edu\",\" yasir_ali@google.com\",\" mazhar@amazon.com\"}\n",
        "for i in email:\n",
        "    Mat = re.findall(\"[@.^]+\",i)\n",
        "    array.append(i)\n",
        "    print(array)"
      ],
      "execution_count": 22,
      "outputs": [
        {
          "output_type": "stream",
          "text": [
            "[' mazhar@amazon.com']\n",
            "[' mazhar@amazon.com', ' yasir_ali@google.com']\n",
            "[' mazhar@amazon.com', ' yasir_ali@google.com', 'awais .ahmed@jinnah.edu']\n"
          ],
          "name": "stdout"
        }
      ]
    },
    {
      "cell_type": "code",
      "metadata": {
        "colab": {
          "base_uri": "https://localhost:8080/"
        },
        "id": "8nc-LRWkNbqv",
        "outputId": "08265cd9-bebf-4e14-b239-e88e97aac136"
      },
      "source": [
        "# Match IntegerID length of 8.\n",
        "username =\"fizza@123\" \n",
        "username1 = \"fizza@666\"\n",
        "username2=\"fizza@888\"\n",
        "\n",
        "M = re.findall(\"[A-z][@_$]\",username)\n",
        "o = re.findall(\"[(A-z)|(@$_)]\",username1)\n",
        "p = re.findall(\"[\\w][@_$]\",username2)\n",
        "\n",
        "print(\"Valid Username : \",username)\n",
        "print(\"Valid Username : \",username1)\n",
        "print(\"Valid Username : \",username2)\n"
      ],
      "execution_count": 25,
      "outputs": [
        {
          "output_type": "stream",
          "text": [
            "Valid Username :  fizza@123\n",
            "Valid Username :  fizza@666\n",
            "Valid Username :  fizza@888\n"
          ],
          "name": "stdout"
        }
      ]
    }
  ]
}